{
 "cells": [
  {
   "cell_type": "code",
   "execution_count": null,
   "metadata": {
    "_uuid": "027dcb287a8a3dc7ba202b3ff6e7b1858e1ff576",
    "colab": {
     "autoexec": {
      "startup": false,
      "wait_interval": 0
     }
    },
    "colab_type": "code",
    "collapsed": true,
    "id": "Ipd4ksJwcSIV"
   },
   "outputs": [],
   "source": [
    "import os\n"
   ]
  },
  {
   "cell_type": "code",
   "execution_count": null,
   "metadata": {
    "_uuid": "d123136d2fbbc547e9991ec605a3eb10865817a8",
    "colab": {
     "autoexec": {
      "startup": false,
      "wait_interval": 0
     }
    },
    "colab_type": "code",
    "collapsed": true,
    "id": "fyIiG75Bdk63"
   },
   "outputs": [],
   "source": [
    "train_images_list = os.listdir('../input/flickr30k_images/flickr30k_images/flickr30k_images/')"
   ]
  },
  {
   "cell_type": "code",
   "execution_count": null,
   "metadata": {
    "_uuid": "7e5c0d9d81124de0655dfbe926eaaa92aab87704",
    "colab": {
     "autoexec": {
      "startup": false,
      "wait_interval": 0
     }
    },
    "colab_type": "code",
    "collapsed": true,
    "id": "AgYHDYuXd7Cg"
   },
   "outputs": [],
   "source": [
    "sample_size = 30\n",
    "train_images_list = train_images_list[:sample_size]"
   ]
  },
  {
   "cell_type": "code",
   "execution_count": null,
   "metadata": {
    "_uuid": "a1ed1431aa9d970cf1db5a70b1737425b4cb1674",
    "colab": {
     "autoexec": {
      "startup": false,
      "wait_interval": 0
     }
    },
    "colab_type": "code",
    "collapsed": true,
    "id": "mFsDFudbeSCS"
   },
   "outputs": [],
   "source": [
    "import tensorflow as tf\n",
    "import cv2\n",
    "import numpy as np\n",
    "import os\n",
    "from matplotlib import pyplot as plt\n",
    "import random"
   ]
  },
  {
   "cell_type": "code",
   "execution_count": null,
   "metadata": {
    "_uuid": "f01f05bb3463b1a6c5d8c1c31f9bdb0c8a7bb6b9",
    "colab": {
     "autoexec": {
      "startup": false,
      "wait_interval": 0
     }
    },
    "colab_type": "code",
    "collapsed": true,
    "id": "Zp6efJj-ejKo"
   },
   "outputs": [],
   "source": [
    "size = (256, 256)\n",
    "num_channels = 3"
   ]
  },
  {
   "cell_type": "code",
   "execution_count": null,
   "metadata": {
    "_uuid": "6988b3de2c3463b71af8cfab45b18fddc5e183ce",
    "collapsed": true
   },
   "outputs": [],
   "source": [
    "train = np.array([None] * sample_size)\n",
    "real_images = np.array([None] * sample_size)"
   ]
  },
  {
   "cell_type": "code",
   "execution_count": null,
   "metadata": {
    "_uuid": "e1e391ad329d70721d7e1d421ea0a550f20753cf",
    "colab": {
     "autoexec": {
      "startup": false,
      "wait_interval": 0
     }
    },
    "colab_type": "code",
    "collapsed": true,
    "id": "SQMjZ26Hernd"
   },
   "outputs": [],
   "source": [
    "j = 0\n",
    "for i in train_images_list:\n",
    "    real_images[j] = np.array(plt.imread('../input/flickr30k_images/flickr30k_images/flickr30k_images/' + i))\n",
    "    train[j] = np.array(plt.imread('../input/flickr30k_images/flickr30k_images/flickr30k_images/' + i))\n",
    "    j += 1"
   ]
  },
  {
   "cell_type": "code",
   "execution_count": null,
   "metadata": {
    "_uuid": "69fe8909863de60d3fa303ab8cc72531b0d8e2b7",
    "colab": {
     "autoexec": {
      "startup": false,
      "wait_interval": 0
     }
    },
    "colab_type": "code",
    "collapsed": true,
    "id": "QRtvphNXfKaM"
   },
   "outputs": [],
   "source": [
    "j = 0\n",
    "for i in train:\n",
    "    train[j] = cv2.resize(i, size)\n",
    "    train[j] = train[j].reshape(1, size[0], size[1], num_channels)\n",
    "    j += 1"
   ]
  },
  {
   "cell_type": "code",
   "execution_count": null,
   "metadata": {
    "_uuid": "4b1ba10fc3cbee9e3818530f93ac566ec11ce5cc",
    "colab": {
     "autoexec": {
      "startup": false,
      "wait_interval": 0
     }
    },
    "colab_type": "code",
    "collapsed": true,
    "id": "sAKWb-HUf3HC"
   },
   "outputs": [],
   "source": [
    "train = np.vstack(train[:])"
   ]
  },
  {
   "cell_type": "code",
   "execution_count": null,
   "metadata": {
    "_uuid": "b841d8639bfc147171160f7379aec1e800e72628",
    "collapsed": true
   },
   "outputs": [],
   "source": [
    "plt.imshow(np.squeeze(train[0]))\n",
    "plt.show()"
   ]
  },
  {
   "cell_type": "code",
   "execution_count": null,
   "metadata": {
    "_uuid": "1d9f90c2e64a2a6830c9f49758d94f5db159385d",
    "colab": {
     "autoexec": {
      "startup": false,
      "wait_interval": 0
     }
    },
    "colab_type": "code",
    "collapsed": true,
    "id": "td87YtIRi8xs"
   },
   "outputs": [],
   "source": [
    "import pandas as pd"
   ]
  },
  {
   "cell_type": "code",
   "execution_count": null,
   "metadata": {
    "_uuid": "54bdc5a3fceab2a5a538a0ce50231251ea961361",
    "colab": {
     "autoexec": {
      "startup": false,
      "wait_interval": 0
     }
    },
    "colab_type": "code",
    "collapsed": true,
    "id": "AqJjszXzi-jR"
   },
   "outputs": [],
   "source": [
    "train_captions = pd.read_csv('../input/flickr30k_images/flickr30k_images/results.csv', delimiter='|')"
   ]
  },
  {
   "cell_type": "code",
   "execution_count": null,
   "metadata": {
    "_uuid": "4949d00996ecc5d061e34ff084ecd9dfe202c0b3",
    "colab": {
     "autoexec": {
      "startup": false,
      "wait_interval": 0
     }
    },
    "colab_type": "code",
    "collapsed": true,
    "id": "nE1qWrozjT0C"
   },
   "outputs": [],
   "source": [
    "def get_images_id(names):\n",
    "    names = [int(x.split('_')[-1].split('.')[0]) for x in names]\n",
    "    return names"
   ]
  },
  {
   "cell_type": "code",
   "execution_count": null,
   "metadata": {
    "_uuid": "7c0cf91709d12bf2b9d908999a132b1b78529c69",
    "colab": {
     "autoexec": {
      "startup": false,
      "wait_interval": 0
     }
    },
    "colab_type": "code",
    "collapsed": true,
    "id": "PuFLzZj5kSZE"
   },
   "outputs": [],
   "source": [
    "# ids = get_images_id(train_images_list[:sample_size])"
   ]
  },
  {
   "cell_type": "code",
   "execution_count": null,
   "metadata": {
    "_uuid": "2bd0e028cd8a570955c538400390d16e261d4035",
    "collapsed": true
   },
   "outputs": [],
   "source": [
    "train_captions.columns = ['image_name', 'comment_number', 'comment']"
   ]
  },
  {
   "cell_type": "code",
   "execution_count": null,
   "metadata": {
    "_uuid": "a1c3155203776232ad264203e18c07952a7aca59",
    "colab": {
     "autoexec": {
      "startup": false,
      "wait_interval": 0
     }
    },
    "colab_type": "code",
    "collapsed": true,
    "id": "_yuCtfnWjHkY"
   },
   "outputs": [],
   "source": [
    "def images_map_caption(train_images_list, train_captions):\n",
    "    caption = []\n",
    "    for i in train_images_list:\n",
    "        caption.append(train_captions[train_captions['image_name'] == i]['comment'].iat[0])\n",
    "    return caption"
   ]
  },
  {
   "cell_type": "code",
   "execution_count": null,
   "metadata": {
    "_uuid": "0a3e672a7f167adb00160a47c2d5b018844f534b",
    "colab": {
     "autoexec": {
      "startup": false,
      "wait_interval": 0
     },
     "base_uri": "https://localhost:8080/",
     "height": 35
    },
    "colab_type": "code",
    "collapsed": true,
    "executionInfo": {
     "elapsed": 9947,
     "status": "ok",
     "timestamp": 1528821711943,
     "user": {
      "displayName": "HEET SANKESARA",
      "photoUrl": "//lh3.googleusercontent.com/-svqau49pDys/AAAAAAAAAAI/AAAAAAAAAG0/I-N7TbKtEok/s50-c-k-no/photo.jpg",
      "userId": "110794808260414240504"
     },
     "user_tz": -330
    },
    "id": "SdoS4BmVeRP3",
    "outputId": "1731a268-a86e-4a16-cc68-c1146361d690"
   },
   "outputs": [],
   "source": [
    "captions = np.array(images_map_caption(train_images_list, train_captions))\n",
    "print(captions.shape)"
   ]
  },
  {
   "cell_type": "code",
   "execution_count": null,
   "metadata": {
    "_uuid": "fdfef16f4ff82149d6b86976b561ee5a5232225e",
    "colab": {
     "autoexec": {
      "startup": false,
      "wait_interval": 0
     }
    },
    "colab_type": "code",
    "collapsed": true,
    "id": "2708Pq12qMzs"
   },
   "outputs": [],
   "source": [
    "import re"
   ]
  },
  {
   "cell_type": "code",
   "execution_count": null,
   "metadata": {
    "_uuid": "6aff8e5fd4f070da906323da1a7c89c824eceff0",
    "colab": {
     "autoexec": {
      "startup": false,
      "wait_interval": 0
     }
    },
    "colab_type": "code",
    "collapsed": true,
    "id": "yz6_VyvQotjz"
   },
   "outputs": [],
   "source": [
    "start_tag = '<s>'\n",
    "end_tag = '<e>'"
   ]
  },
  {
   "cell_type": "code",
   "execution_count": null,
   "metadata": {
    "_uuid": "54c96bc920a2ecd5970ee29aff480b9679b51b27",
    "colab": {
     "autoexec": {
      "startup": false,
      "wait_interval": 0
     }
    },
    "colab_type": "code",
    "collapsed": true,
    "id": "vo3MsM6KmYtM"
   },
   "outputs": [],
   "source": [
    "def get_vocab(captions):\n",
    "    arr = []\n",
    "    m = captions.shape[0]\n",
    "    sentence = [None ] * m\n",
    "    j  = 0\n",
    "    for i in captions:\n",
    "        i = re.sub(' +',' ',i)\n",
    "        i = start_tag + ' ' + i + ' ' + end_tag\n",
    "        sentence[j] = i.split()\n",
    "        j += 1\n",
    "        arr = arr + i.split()\n",
    "    arr = list(set(arr))\n",
    "    vocab_size = len(arr)\n",
    "    j = 0\n",
    "    fwd_dict = {}\n",
    "    rev_dict = {}\n",
    "    j = 0\n",
    "    for i in arr:\n",
    "        fwd_dict[i] = j\n",
    "        rev_dict[j] = i\n",
    "        j += 1\n",
    "    return vocab_size, sentence, fwd_dict, rev_dict"
   ]
  },
  {
   "cell_type": "code",
   "execution_count": null,
   "metadata": {
    "_uuid": "6ce493f4aec41087b3ef1aa509e9b6b38145c466",
    "colab": {
     "autoexec": {
      "startup": false,
      "wait_interval": 0
     }
    },
    "colab_type": "code",
    "collapsed": true,
    "id": "E1SUDY3tpMJH"
   },
   "outputs": [],
   "source": [
    "vocab_size, sentences, fwd_dict, rev_dict = get_vocab(captions)"
   ]
  },
  {
   "cell_type": "code",
   "execution_count": null,
   "metadata": {
    "_uuid": "a8407f55150928e1f84bd5e88f418cddeeb7fdb2",
    "colab": {
     "autoexec": {
      "startup": false,
      "wait_interval": 0
     }
    },
    "colab_type": "code",
    "collapsed": true,
    "id": "S5qZSfNrp4yj"
   },
   "outputs": [],
   "source": [
    "from scipy.sparse import csr_matrix\n",
    "from scipy.sparse import vstack"
   ]
  },
  {
   "cell_type": "code",
   "execution_count": null,
   "metadata": {
    "_uuid": "82dbde1ab8ddcd00f1d27780956e094aadfdf904",
    "colab": {
     "autoexec": {
      "startup": false,
      "wait_interval": 0
     }
    },
    "colab_type": "code",
    "collapsed": true,
    "id": "6iHPTn5jdiXc"
   },
   "outputs": [],
   "source": [
    "m = len(sentences)\n",
    "train_caption = [None] * m\n",
    "i = 0\n",
    "for sentence in sentences:\n",
    "    cap_array = None\n",
    "    for word in sentence:\n",
    "        row = [0]\n",
    "        col = [fwd_dict[word]]\n",
    "        data = [1]\n",
    "        if cap_array is None:\n",
    "            cap_array = csr_matrix((data, (row, col)), shape=(1, vocab_size))\n",
    "        else:\n",
    "            cap_array = vstack((cap_array, csr_matrix((data, (row, col)), shape=(1, vocab_size))))\n",
    "    train_caption[i] = cap_array\n",
    "    i += 1"
   ]
  },
  {
   "cell_type": "code",
   "execution_count": null,
   "metadata": {
    "_uuid": "82f2315d9955ab1092d5388e11bd1cff456d2cb1",
    "colab": {
     "autoexec": {
      "startup": false,
      "wait_interval": 0
     },
     "base_uri": "https://localhost:8080/",
     "height": 35
    },
    "colab_type": "code",
    "collapsed": true,
    "executionInfo": {
     "elapsed": 2902,
     "status": "ok",
     "timestamp": 1528821750233,
     "user": {
      "displayName": "HEET SANKESARA",
      "photoUrl": "//lh3.googleusercontent.com/-svqau49pDys/AAAAAAAAAAI/AAAAAAAAAG0/I-N7TbKtEok/s50-c-k-no/photo.jpg",
      "userId": "110794808260414240504"
     },
     "user_tz": -330
    },
    "id": "WAvt9X8Zs_mT",
    "outputId": "41409d6b-c3de-4834-c002-a3e184c41ae2"
   },
   "outputs": [],
   "source": [
    "train_caption[0].shape"
   ]
  },
  {
   "cell_type": "markdown",
   "metadata": {
    "_uuid": "58047a18f3beef69eb17f9a2ab048cf786eff54f",
    "colab_type": "text",
    "id": "GZsRljdwsvup"
   },
   "source": [
    "# Model Design"
   ]
  },
  {
   "cell_type": "markdown",
   "metadata": {
    "_uuid": "6b48d79e8c7b194286fbf1635129603dd98a4a2f"
   },
   "source": [
    "## Training Model"
   ]
  },
  {
   "cell_type": "code",
   "execution_count": null,
   "metadata": {
    "_uuid": "7518da8c259fcf27f56fc20e17defa4663a382ac",
    "colab": {
     "autoexec": {
      "startup": false,
      "wait_interval": 0
     }
    },
    "colab_type": "code",
    "collapsed": true,
    "id": "c6HbNIjStZTi"
   },
   "outputs": [],
   "source": [
    "def create_weights(shape, suffix):\n",
    "    return tf.Variable(tf.truncated_normal(shape, stddev=0.7), name='W_' + suffix)\n",
    "\n",
    "def create_biases(size, suffix):\n",
    "    return tf.Variable(tf.zeros([size]), name='b_' + suffix)"
   ]
  },
  {
   "cell_type": "code",
   "execution_count": null,
   "metadata": {
    "_uuid": "63ca7ac94333515cda6add9ded230b0ff1d714da",
    "colab": {
     "autoexec": {
      "startup": false,
      "wait_interval": 0
     }
    },
    "colab_type": "code",
    "collapsed": true,
    "id": "hzOoOr5cueD4"
   },
   "outputs": [],
   "source": [
    "def conv_layer(inp, kernel_shape, num_channels, num_kernels, suffix):\n",
    "    filter_shape = [kernel_shape[0], kernel_shape[1], num_channels, num_kernels]\n",
    "    weights = create_weights(shape=filter_shape, suffix=suffix)\n",
    "    biases = create_biases(num_kernels, suffix=suffix)\n",
    "    layer = tf.nn.conv2d(input=inp, filter=weights, padding='SAME', strides=[1, 1, 1, 1], name='conv_' + suffix)\n",
    "    layer += biases\n",
    "    layer = tf.nn.relu6(layer, name='relu_' + suffix)\n",
    "    #layer = tf.nn.max_pool(layer, ksize=[1, 2, 2, 1], strides=[1, 2, 2,1], padding= 'SAME')\n",
    "    return layer\n",
    "\n"
   ]
  },
  {
   "cell_type": "code",
   "execution_count": null,
   "metadata": {
    "_uuid": "5962b31a58597ee461dd09f5f0ecb6e77accaeea",
    "colab": {
     "autoexec": {
      "startup": false,
      "wait_interval": 0
     }
    },
    "colab_type": "code",
    "collapsed": true,
    "id": "oaxxJOF8vgDw"
   },
   "outputs": [],
   "source": [
    "def flatten_layer(layer, suffix):\n",
    "    layer_shape = layer.get_shape()\n",
    "    num_features = layer_shape[1:4].num_elements()\n",
    "    layer = tf.reshape(layer, [-1, num_features], name='flat_' + suffix )\n",
    "    return layer\n"
   ]
  },
  {
   "cell_type": "code",
   "execution_count": null,
   "metadata": {
    "_uuid": "fab37684e0cffed781264e675952c71820cb8d64",
    "colab": {
     "autoexec": {
      "startup": false,
      "wait_interval": 0
     }
    },
    "colab_type": "code",
    "collapsed": true,
    "id": "PvKb2o63u-oO"
   },
   "outputs": [],
   "source": [
    "def dense_layer(inp, num_inputs, num_outputs, suffix, use_relu=True):\n",
    "    weights = create_weights([num_inputs, num_outputs], suffix)\n",
    "    biases = create_biases(num_outputs, suffix)\n",
    "    layer = tf.matmul(inp, weights) + biases\n",
    "    layer = tf.nn.relu(layer)\n",
    "    return layer"
   ]
  },
  {
   "cell_type": "code",
   "execution_count": null,
   "metadata": {
    "_uuid": "05aae0d63ec78891400c05eeb939f7af9eed2300",
    "colab": {
     "autoexec": {
      "startup": false,
      "wait_interval": 0
     }
    },
    "colab_type": "code",
    "collapsed": true,
    "id": "6hythQIIyF_4"
   },
   "outputs": [],
   "source": [
    "def rnn_cell(Win ,Wout, Wfwd, b, hprev, inp):\n",
    "    h = tf.tanh(tf.add(tf.add(tf.matmul(inp, Win), tf.matmul(hprev, Wfwd)), b))\n",
    "    out = tf.matmul(h, Wo)\n",
    "    return h, out"
   ]
  },
  {
   "cell_type": "code",
   "execution_count": null,
   "metadata": {
    "_uuid": "bbd9e697fc1c9acee2f74b2576e53d56b565e7fd",
    "colab": {
     "autoexec": {
      "startup": false,
      "wait_interval": 0
     }
    },
    "colab_type": "code",
    "collapsed": true,
    "id": "VJZAej04r1ee"
   },
   "outputs": [],
   "source": [
    "import tensorflow as tf"
   ]
  },
  {
   "cell_type": "code",
   "execution_count": null,
   "metadata": {
    "_uuid": "29658d7b79d8338d0b9798d3b191b8b6fff74ced",
    "colab": {
     "autoexec": {
      "startup": false,
      "wait_interval": 0
     },
     "base_uri": "https://localhost:8080/",
     "height": 35
    },
    "colab_type": "code",
    "collapsed": true,
    "executionInfo": {
     "elapsed": 4672,
     "status": "ok",
     "timestamp": 1528821807824,
     "user": {
      "displayName": "HEET SANKESARA",
      "photoUrl": "//lh3.googleusercontent.com/-svqau49pDys/AAAAAAAAAAI/AAAAAAAAAG0/I-N7TbKtEok/s50-c-k-no/photo.jpg",
      "userId": "110794808260414240504"
     },
     "user_tz": -330
    },
    "id": "B6ZP0Fupuyt1",
    "outputId": "5a108aac-bc6b-4d4c-ba65-db7eb83b5594"
   },
   "outputs": [],
   "source": [
    "tf.device(\"/device:GPU:0\")"
   ]
  },
  {
   "cell_type": "code",
   "execution_count": null,
   "metadata": {
    "_uuid": "e65ed189f559a876be92a6cbd5e17aa17812f652",
    "colab": {
     "autoexec": {
      "startup": false,
      "wait_interval": 0
     }
    },
    "colab_type": "code",
    "collapsed": true,
    "id": "Y1qMRv4JtOXT"
   },
   "outputs": [],
   "source": [
    "learning_rate = 0.0001\n",
    "training_iters = 5000\n",
    "display_step = 1000\n",
    "max_sent_limit = 50\n",
    "num_tests = 12\n",
    "bridge_size = 1024\n",
    "keep_prob = 0.3"
   ]
  },
  {
   "cell_type": "code",
   "execution_count": null,
   "metadata": {
    "_uuid": "e4bbbd4b027fb9f9c75601d9bb41f73bcafed8b0",
    "colab": {
     "autoexec": {
      "startup": false,
      "wait_interval": 0
     }
    },
    "colab_type": "code",
    "collapsed": true,
    "id": "69baaPwNs4ii"
   },
   "outputs": [],
   "source": [
    "x_caption = tf.placeholder(tf.float32, [None, vocab_size], name = 'x_caption')\n",
    "x_inp = tf.placeholder(tf.float32, shape=[1, size[0],size[1],num_channels], name='x_image')\n",
    "y = tf.placeholder(tf.float32, [None, vocab_size], name = 'x_caption')"
   ]
  },
  {
   "cell_type": "code",
   "execution_count": null,
   "metadata": {
    "_uuid": "8efbd024f019c8baeb8be4e38153d975bcedafe4",
    "colab": {
     "autoexec": {
      "startup": false,
      "wait_interval": 0
     }
    },
    "colab_type": "code",
    "collapsed": true,
    "id": "rNQHaectxoQD"
   },
   "outputs": [],
   "source": [
    "Wconv = tf.Variable(tf.truncated_normal([bridge_size, vocab_size], stddev=0.7))\n",
    "bconv = tf.Variable(tf.zeros([1, vocab_size]))\n",
    "Wi= tf.Variable(tf.truncated_normal([vocab_size, vocab_size], stddev=0.7))\n",
    "Wf= tf.Variable(tf.truncated_normal([vocab_size, vocab_size], stddev=0.7))\n",
    "Wo= tf.Variable(tf.truncated_normal([vocab_size, vocab_size], stddev=0.7))\n",
    "b = tf.Variable(tf.zeros([1, vocab_size]))"
   ]
  },
  {
   "cell_type": "code",
   "execution_count": null,
   "metadata": {
    "_uuid": "56bb06ffdd600bf5143d39dd768546774f50bea5",
    "colab": {
     "autoexec": {
      "startup": false,
      "wait_interval": 0
     }
    },
    "colab_type": "code",
    "collapsed": true,
    "id": "rKX2Sz64uJ3s"
   },
   "outputs": [],
   "source": [
    "layer_conv1 = conv_layer(inp=x_inp, kernel_shape=(3, 3), num_kernels=32, num_channels=3, suffix='1')\n",
    "layer_conv2 = conv_layer(inp=layer_conv1, kernel_shape=(3, 3), num_kernels=32, num_channels=32, suffix='2')\n",
    "maxpool1 = tf.nn.max_pool(layer_conv2, ksize=[1, 2, 2, 1], strides=[1, 2, 2,1], padding= 'SAME')\n",
    "layer_conv3 = conv_layer(inp=maxpool1, kernel_shape=(3, 3), num_kernels=64, num_channels=32, suffix='3')\n",
    "layer_conv4 = conv_layer(inp=layer_conv3, kernel_shape=(3, 3), num_kernels=64, num_channels=64, suffix='4')\n",
    "maxpool2 = tf.nn.max_pool(layer_conv4, ksize=[1, 2, 2, 1], strides=[1, 2, 2,1], padding= 'SAME')\n",
    "layer_conv5 = conv_layer(inp=maxpool2, kernel_shape=(3, 3), num_kernels=128, num_channels=64, suffix='5')\n",
    "layer_conv6 = conv_layer(inp=layer_conv5, kernel_shape=(3, 3), num_kernels=128, num_channels=128, suffix='6')\n",
    "maxpool3 = tf.nn.max_pool(layer_conv6, ksize=[1, 2, 2, 1], strides=[1, 2, 2,1], padding= 'SAME')\n",
    "layer_conv7 = conv_layer(inp=maxpool3, kernel_shape=(3, 3), num_kernels=256, num_channels=128, suffix='7')\n",
    "layer_conv8 = conv_layer(inp=layer_conv7, kernel_shape=(3, 3), num_kernels=256, num_channels=256, suffix='8')"
   ]
  },
  {
   "cell_type": "code",
   "execution_count": null,
   "metadata": {
    "_uuid": "179055c4b7b6805e20a6f610596ed5279a7e0df5",
    "colab": {
     "autoexec": {
      "startup": false,
      "wait_interval": 0
     }
    },
    "colab_type": "code",
    "collapsed": true,
    "id": "mw8YutfSvuQp",
    "scrolled": false
   },
   "outputs": [],
   "source": [
    "flat_layer = flatten_layer(layer_conv8, suffix='9')\n",
    "#flat_layer = tf.layers.dropout(flat_layer, rate= keep_prob)\n",
    "dense_layer_1 = dense_layer(inp=flat_layer, num_inputs=262144 , num_outputs=bridge_size, suffix='10')"
   ]
  },
  {
   "cell_type": "code",
   "execution_count": null,
   "metadata": {
    "_uuid": "6b47e3d951a3e4a16c15bedf7b095538a56d1572",
    "colab": {
     "autoexec": {
      "startup": false,
      "wait_interval": 0
     }
    },
    "colab_type": "code",
    "collapsed": true,
    "id": "9alyq7OMwbnh"
   },
   "outputs": [],
   "source": [
    "start_hook = tf.cast(csr_matrix(([1], ([0], [fwd_dict[start_tag]])), shape=(1, vocab_size)).A, tf.float32)\n",
    "end_hook = tf.cast(csr_matrix(([1], ([0], [fwd_dict[end_tag]])), shape=(1, vocab_size)).A, tf.float32)"
   ]
  },
  {
   "cell_type": "code",
   "execution_count": null,
   "metadata": {
    "_uuid": "78770378244280ef3d56e84bf9585ed5163d121e",
    "colab": {
     "autoexec": {
      "startup": false,
      "wait_interval": 0
     }
    },
    "colab_type": "code",
    "collapsed": true,
    "id": "hTNjg07RRT-y"
   },
   "outputs": [],
   "source": [
    "hook = tf.slice(x_caption, [0, 0], [1, vocab_size])\n",
    "h = dense_layer_1\n",
    "h, out = rnn_cell(Wi ,Wo, Wconv, bconv, h, hook)"
   ]
  },
  {
   "cell_type": "code",
   "execution_count": null,
   "metadata": {
    "_uuid": "bcfac6bcb956adafd5b5116cec3193fa502bff84",
    "colab": {
     "autoexec": {
      "startup": false,
      "wait_interval": 0
     }
    },
    "colab_type": "code",
    "collapsed": true,
    "id": "G5sHdnNz_V5v"
   },
   "outputs": [],
   "source": [
    "def fn(prev, curr):\n",
    "    h = prev[0]\n",
    "    curr = tf.reshape(curr, [1, vocab_size])\n",
    "    h, out = rnn_cell(Wi ,Wo, Wf, b, h, curr)\n",
    "    return h, out"
   ]
  },
  {
   "cell_type": "code",
   "execution_count": null,
   "metadata": {
    "_uuid": "f770bc9dd0a0d9b03b2ff554c63e56948ffe67d3",
    "colab": {
     "autoexec": {
      "startup": false,
      "wait_interval": 0
     }
    },
    "colab_type": "code",
    "collapsed": true,
    "id": "qm6_530y_g8n"
   },
   "outputs": [],
   "source": [
    "_, output = tf.scan(fn, x_caption[1:], initializer=(h, out))"
   ]
  },
  {
   "cell_type": "code",
   "execution_count": null,
   "metadata": {
    "_uuid": "184726e5e98374ffab3a881907cd63811dc7b00b",
    "colab": {
     "autoexec": {
      "startup": false,
      "wait_interval": 0
     }
    },
    "colab_type": "code",
    "collapsed": true,
    "id": "yc4k8moFrewr"
   },
   "outputs": [],
   "source": [
    "output = tf.squeeze(output, axis  = 1)"
   ]
  },
  {
   "cell_type": "code",
   "execution_count": null,
   "metadata": {
    "_uuid": "9ba07204a83c1c03b62e2eef83a9404370e3872a",
    "colab": {
     "autoexec": {
      "startup": false,
      "wait_interval": 0
     }
    },
    "colab_type": "code",
    "collapsed": true,
    "id": "SHgK0aiTNO9p"
   },
   "outputs": [],
   "source": [
    "outputs = tf.concat([out, output], axis = 0)"
   ]
  },
  {
   "cell_type": "code",
   "execution_count": null,
   "metadata": {
    "_uuid": "4942e7f4a4ad7e04af40fc6194733af950a3f9d8",
    "colab": {
     "autoexec": {
      "startup": false,
      "wait_interval": 0
     }
    },
    "colab_type": "code",
    "collapsed": true,
    "id": "Ar_9Bgv20G0M"
   },
   "outputs": [],
   "source": [
    "cost = tf.reduce_mean(tf.nn.softmax_cross_entropy_with_logits_v2(logits=outputs, labels=y))\n",
    "optimizer = tf.train.AdamOptimizer(learning_rate).minimize(cost)"
   ]
  },
  {
   "cell_type": "code",
   "execution_count": null,
   "metadata": {
    "_uuid": "ab5f27add76696e5b16a82f3c6a0aaae88ea53ab",
    "colab": {
     "autoexec": {
      "startup": false,
      "wait_interval": 0
     }
    },
    "colab_type": "code",
    "collapsed": true,
    "id": "fWqobzqI1zTW"
   },
   "outputs": [],
   "source": [
    "pred = tf.nn.softmax(outputs)"
   ]
  },
  {
   "cell_type": "code",
   "execution_count": null,
   "metadata": {
    "_uuid": "f83fd7e702135ef01d8d5f6582e345dc7102664f",
    "colab": {
     "autoexec": {
      "startup": false,
      "wait_interval": 0
     }
    },
    "colab_type": "code",
    "collapsed": true,
    "id": "1vCTCDZhivqb"
   },
   "outputs": [],
   "source": [
    "# Model evaluation\n",
    "correct_pred = tf.equal(tf.argmax(pred, 1), tf.argmax(y, 1))\n",
    "accuracy = tf.reduce_mean(tf.cast(correct_pred, tf.float32))"
   ]
  },
  {
   "cell_type": "markdown",
   "metadata": {
    "_uuid": "cb767b679c178e25c2368da250f90dd0e5747516",
    "collapsed": true
   },
   "source": [
    "## Predictive Model"
   ]
  },
  {
   "cell_type": "code",
   "execution_count": null,
   "metadata": {
    "_uuid": "75dd9c0016ae3c612ecc1b244a024d6df649e421",
    "collapsed": true
   },
   "outputs": [],
   "source": [
    "out_tensor = tf.TensorArray(dtype=tf.float32, dynamic_size=True, size = 0)"
   ]
  },
  {
   "cell_type": "code",
   "execution_count": null,
   "metadata": {
    "_uuid": "3648416cf2e077edfc8d7782b7664371c058ec7a",
    "collapsed": true
   },
   "outputs": [],
   "source": [
    "htest = dense_layer_1\n",
    "htest, out_first = rnn_cell(Wi ,Wo, Wconv, bconv, htest, start_hook)\n",
    "t = 0\n",
    "out_ = tf.one_hot(tf.argmax(tf.nn.softmax(out_first), 1), depth=vocab_size)\n",
    "out_tensor = out_tensor.write(t, out_)\n",
    "t += 1"
   ]
  },
  {
   "cell_type": "code",
   "execution_count": null,
   "metadata": {
    "_uuid": "5d10609f31ad2587d3121345b539aa69f6802475",
    "collapsed": true
   },
   "outputs": [],
   "source": [
    "def condition(res, h, out_tensor, t):\n",
    "    return tf.logical_and(tf.logical_not(tf.equal(tf.argmax(res, 1)[0], fwd_dict[end_tag])), tf.less(t, max_sent_limit))"
   ]
  },
  {
   "cell_type": "code",
   "execution_count": null,
   "metadata": {
    "_uuid": "07d5d051591112b6416680d1fd3909f96ef57476",
    "collapsed": true
   },
   "outputs": [],
   "source": [
    "def action(res, h, out_tensor, t):\n",
    "    h, out = rnn_cell(Wi ,Wo, Wf, b, h, res)\n",
    "    res = tf.one_hot(tf.argmax(tf.nn.softmax(out), 1), depth=vocab_size)\n",
    "    out_tensor = out_tensor.write(t, res)\n",
    "    return res, h, out_tensor, t + 1"
   ]
  },
  {
   "cell_type": "code",
   "execution_count": null,
   "metadata": {
    "_uuid": "c3613d04417c80e313f76019551791945817851d",
    "collapsed": true
   },
   "outputs": [],
   "source": [
    "_, __, final_outputs, T = tf.while_loop(condition, action, [out_, htest, out_tensor, t])"
   ]
  },
  {
   "cell_type": "code",
   "execution_count": null,
   "metadata": {
    "_uuid": "f3d88cbd9984c55891f1032f630f58f1e2f63cb4",
    "collapsed": true
   },
   "outputs": [],
   "source": [
    "final_prediction = tf.squeeze(final_outputs.stack())"
   ]
  },
  {
   "cell_type": "code",
   "execution_count": null,
   "metadata": {
    "_uuid": "89bae773b576df12a4fce970058caf9bc4da2c0e",
    "colab": {
     "autoexec": {
      "startup": false,
      "wait_interval": 0
     }
    },
    "colab_type": "code",
    "collapsed": true,
    "id": "dF6_ZohcizdG"
   },
   "outputs": [],
   "source": [
    "saver = tf.train.Saver()\n",
    "init = tf.global_variables_initializer()"
   ]
  },
  {
   "cell_type": "markdown",
   "metadata": {
    "_uuid": "93a9861b97eb568b15bae7428abd22ced9459172",
    "colab_type": "text",
    "id": "4kpvGws-kjDD"
   },
   "source": [
    "# Model Implemetation"
   ]
  },
  {
   "cell_type": "code",
   "execution_count": null,
   "metadata": {
    "_uuid": "c75d5229334c68612d5acbe5fbcd81edf2c67c2a",
    "colab": {
     "autoexec": {
      "startup": false,
      "wait_interval": 0
     },
     "base_uri": "https://localhost:8080/",
     "height": 106
    },
    "colab_type": "code",
    "collapsed": true,
    "executionInfo": {
     "elapsed": 2377273,
     "status": "ok",
     "timestamp": 1528824678831,
     "user": {
      "displayName": "HEET SANKESARA",
      "photoUrl": "//lh3.googleusercontent.com/-svqau49pDys/AAAAAAAAAAI/AAAAAAAAAG0/I-N7TbKtEok/s50-c-k-no/photo.jpg",
      "userId": "110794808260414240504"
     },
     "user_tz": -330
    },
    "id": "H3Y4yxP5i6Aq",
    "outputId": "ac0c5fd3-0334-4499-b9cb-828960a80d9d",
    "scrolled": false
   },
   "outputs": [],
   "source": [
    "with tf.Session() as sess:\n",
    "    sess.run(init)\n",
    "    m = len(train_caption)\n",
    "    for epoch in range(training_iters):\n",
    "        total_cost = 0\n",
    "        total_acc = 0\n",
    "        for i in range(m):\n",
    "            _, cst, acc = sess.run([optimizer, cost, accuracy], feed_dict = {x_caption:train_caption[i][:-1].A, x_inp:train[i:i+1], y:train_caption[i][1:].A})\n",
    "            total_cost += cst\n",
    "            total_acc += acc\n",
    "        if (epoch + 1) % display_step == 0:\n",
    "            print('After ', (epoch + 1), 'iterations: Cost = ', total_cost / m, 'and Accuracy: ', total_acc * 100/ m , '%' )\n",
    "    print('Optimization finished!')\n",
    "    print(\"Let's check\")\n",
    "    for tests in range(num_tests):\n",
    "        image_num = random.randint(0, sample_size - 1)\n",
    "        caption = sess.run(final_prediction, feed_dict = {x_inp:train[image_num:image_num + 1]})\n",
    "        print(caption.shape)\n",
    "        caption = np.argmax(caption[:-1], 1)\n",
    "        capt = ''\n",
    "        for i in caption:\n",
    "            capt += rev_dict[i] + ' '\n",
    "        print('Predicted Caption:->', capt)\n",
    "        orig_cap = np.argmax(train_caption[image_num:image_num + 1][0][1:-1].A, 1)\n",
    "        orignalcaption = ''\n",
    "        for i in orig_cap:\n",
    "            orignalcaption += rev_dict[i] + ' '\n",
    "        print('Orignal Caption:->', orignalcaption)\n",
    "        plt.imshow(real_images[image_num])\n",
    "        plt.title('Image')\n",
    "        plt.show()"
   ]
  },
  {
   "cell_type": "code",
   "execution_count": null,
   "metadata": {
    "_uuid": "b076453a8cc6a0a6865625eeb4c69d9ca3047701",
    "collapsed": true
   },
   "outputs": [],
   "source": []
  },
  {
   "cell_type": "code",
   "execution_count": null,
   "metadata": {
    "_uuid": "90ca5658cd00dfe85554996e836da5d244d20478",
    "collapsed": true
   },
   "outputs": [],
   "source": []
  },
  {
   "cell_type": "code",
   "execution_count": null,
   "metadata": {
    "_uuid": "76c47e19050eca0590efa6d25d49e5a50ced312f",
    "collapsed": true
   },
   "outputs": [],
   "source": []
  }
 ],
 "metadata": {
  "accelerator": "GPU",
  "colab": {
   "collapsed_sections": [],
   "default_view": {},
   "name": "Image Captioning.ipynb",
   "provenance": [],
   "version": "0.3.2",
   "views": {}
  },
  "kernelspec": {
   "display_name": "Python 3 (ipykernel)",
   "language": "python",
   "name": "python3"
  },
  "language_info": {
   "codemirror_mode": {
    "name": "ipython",
    "version": 3
   },
   "file_extension": ".py",
   "mimetype": "text/x-python",
   "name": "python",
   "nbconvert_exporter": "python",
   "pygments_lexer": "ipython3",
   "version": "3.11.3"
  }
 },
 "nbformat": 4,
 "nbformat_minor": 1
}
